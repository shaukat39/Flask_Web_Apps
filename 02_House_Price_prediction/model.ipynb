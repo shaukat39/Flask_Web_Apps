{
 "cells": [
  {
   "cell_type": "code",
   "execution_count": null,
   "id": "8fee39a3",
   "metadata": {},
   "outputs": [],
   "source": [
    "#pip install pandas scikit-learn numpy matplotlib seaborn\n"
   ]
  },
  {
   "cell_type": "code",
   "execution_count": 3,
   "id": "2f8cbfb6",
   "metadata": {},
   "outputs": [],
   "source": [
    "import pandas as pd \n",
    "from sklearn.linear_model import LinearRegression\n",
    "import pickle\n",
    "df=pd.read_json('Data/House_Price.json')\n",
    "X=df['Area(in sq. ft)'].values.reshape(-1,1)\n",
    "y=df['Price(in Rs.)'].values.reshape(-1,1)\n",
    "model =LinearRegression()\n",
    "model.fit(X,y)\n",
    "pickle.dump(model,open('model.pkl','wb'))"
   ]
  },
  {
   "cell_type": "code",
   "execution_count": null,
   "id": "d2359480",
   "metadata": {},
   "outputs": [],
   "source": [
    "df.head()"
   ]
  }
 ],
 "metadata": {
  "kernelspec": {
   "display_name": "Python 3",
   "language": "python",
   "name": "python3"
  },
  "language_info": {
   "codemirror_mode": {
    "name": "ipython",
    "version": 3
   },
   "file_extension": ".py",
   "mimetype": "text/x-python",
   "name": "python",
   "nbconvert_exporter": "python",
   "pygments_lexer": "ipython3",
   "version": "3.11.11"
  }
 },
 "nbformat": 4,
 "nbformat_minor": 5
}
