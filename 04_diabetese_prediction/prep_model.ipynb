{
 "cells": [
  {
   "cell_type": "markdown",
   "id": "fe615e2a",
   "metadata": {},
   "source": [
    "## Data Preparation and Model\n",
    "\n",
    "#### About Dataset\n",
    "\n",
    "Link to the dataset: Pima Indians Diabetes Database\n",
    "\n",
    "#### Context\n",
    "\n",
    "This dataset is originally from the National Institute of Diabetes and Digestive and Kidney Diseases. The objective of the dataset is to diagnostically predict whether or not a patient has diabetes, based on certain diagnostic measurements included in the dataset. Several constraints were placed on the selection of these instances from a larger database. In particular, all patients here are females at least 21 years old of Pima Indian heritage.\n",
    "\n",
    "#### Content\n",
    "\n",
    "The datasets consists of several medical predictor variables and one target variable, Outcome. Predictor variables includes the number of pregnancies the patient has had, their BMI, insulin level, age, and so on.\n",
    "\n",
    "#### Acknowledgements\n",
    "\n",
    "Smith, J.W., Everhart, J.E., Dickson, W.C., Knowler, W.C., & Johannes, R.S. (1988). Using the ADAP learning algorithm to forecast the onset of diabetes mellitus. In Proceedings of the Symposium on Computer Applications and Medical Care (pp. 261--265). IEEE Computer Society Press."
   ]
  },
  {
   "cell_type": "code",
   "execution_count": 1,
   "id": "5fbeab3b",
   "metadata": {},
   "outputs": [],
   "source": [
    "import pandas as pd\n",
    "import numpy as np"
   ]
  },
  {
   "cell_type": "code",
   "execution_count": 2,
   "id": "ac34820a",
   "metadata": {},
   "outputs": [],
   "source": [
    "# set seed for reproducibility\n",
    "SEED = 20\n",
    "np.random.seed(SEED)\n"
   ]
  },
  {
   "cell_type": "code",
   "execution_count": 3,
   "id": "7c0f1f5c",
   "metadata": {},
   "outputs": [
    {
     "data": {
      "text/html": [
       "<div>\n",
       "<style scoped>\n",
       "    .dataframe tbody tr th:only-of-type {\n",
       "        vertical-align: middle;\n",
       "    }\n",
       "\n",
       "    .dataframe tbody tr th {\n",
       "        vertical-align: top;\n",
       "    }\n",
       "\n",
       "    .dataframe thead th {\n",
       "        text-align: right;\n",
       "    }\n",
       "</style>\n",
       "<table border=\"1\" class=\"dataframe\">\n",
       "  <thead>\n",
       "    <tr style=\"text-align: right;\">\n",
       "      <th></th>\n",
       "      <th>Pregnancies</th>\n",
       "      <th>Glucose</th>\n",
       "      <th>BloodPressure</th>\n",
       "      <th>SkinThickness</th>\n",
       "      <th>Insulin</th>\n",
       "      <th>BMI</th>\n",
       "      <th>DiabetesPedigreeFunction</th>\n",
       "      <th>Age</th>\n",
       "      <th>Outcome</th>\n",
       "    </tr>\n",
       "  </thead>\n",
       "  <tbody>\n",
       "    <tr>\n",
       "      <th>0</th>\n",
       "      <td>6</td>\n",
       "      <td>148</td>\n",
       "      <td>72</td>\n",
       "      <td>35</td>\n",
       "      <td>0</td>\n",
       "      <td>33.6</td>\n",
       "      <td>0.627</td>\n",
       "      <td>50</td>\n",
       "      <td>1</td>\n",
       "    </tr>\n",
       "    <tr>\n",
       "      <th>1</th>\n",
       "      <td>1</td>\n",
       "      <td>85</td>\n",
       "      <td>66</td>\n",
       "      <td>29</td>\n",
       "      <td>0</td>\n",
       "      <td>26.6</td>\n",
       "      <td>0.351</td>\n",
       "      <td>31</td>\n",
       "      <td>0</td>\n",
       "    </tr>\n",
       "    <tr>\n",
       "      <th>2</th>\n",
       "      <td>8</td>\n",
       "      <td>183</td>\n",
       "      <td>64</td>\n",
       "      <td>0</td>\n",
       "      <td>0</td>\n",
       "      <td>23.3</td>\n",
       "      <td>0.672</td>\n",
       "      <td>32</td>\n",
       "      <td>1</td>\n",
       "    </tr>\n",
       "    <tr>\n",
       "      <th>3</th>\n",
       "      <td>1</td>\n",
       "      <td>89</td>\n",
       "      <td>66</td>\n",
       "      <td>23</td>\n",
       "      <td>94</td>\n",
       "      <td>28.1</td>\n",
       "      <td>0.167</td>\n",
       "      <td>21</td>\n",
       "      <td>0</td>\n",
       "    </tr>\n",
       "    <tr>\n",
       "      <th>4</th>\n",
       "      <td>0</td>\n",
       "      <td>137</td>\n",
       "      <td>40</td>\n",
       "      <td>35</td>\n",
       "      <td>168</td>\n",
       "      <td>43.1</td>\n",
       "      <td>2.288</td>\n",
       "      <td>33</td>\n",
       "      <td>1</td>\n",
       "    </tr>\n",
       "  </tbody>\n",
       "</table>\n",
       "</div>"
      ],
      "text/plain": [
       "   Pregnancies  Glucose  BloodPressure  SkinThickness  Insulin   BMI  \\\n",
       "0            6      148             72             35        0  33.6   \n",
       "1            1       85             66             29        0  26.6   \n",
       "2            8      183             64              0        0  23.3   \n",
       "3            1       89             66             23       94  28.1   \n",
       "4            0      137             40             35      168  43.1   \n",
       "\n",
       "   DiabetesPedigreeFunction  Age  Outcome  \n",
       "0                     0.627   50        1  \n",
       "1                     0.351   31        0  \n",
       "2                     0.672   32        1  \n",
       "3                     0.167   21        0  \n",
       "4                     2.288   33        1  "
      ]
     },
     "execution_count": 3,
     "metadata": {},
     "output_type": "execute_result"
    }
   ],
   "source": [
    "# Loading Data\n",
    "df = pd.read_csv('diabetes.csv')\n",
    "df.head()\n"
   ]
  },
  {
   "cell_type": "code",
   "execution_count": 4,
   "id": "09884357",
   "metadata": {},
   "outputs": [],
   "source": [
    "# Replacing all 0 values with Null values\n",
    "def replace_zero(df):\n",
    "    df_nan=df.copy(deep=True)\n",
    "    cols = [\"Glucose\",\"BloodPressure\",\"SkinThickness\",\"Insulin\",\"BMI\"]\n",
    "    df_nan[cols] = df_nan[cols].replace({0:np.nan})\n",
    "    return df_nan\n",
    "df_nan=replace_zero(df)"
   ]
  },
  {
   "cell_type": "code",
   "execution_count": 5,
   "id": "464519f1",
   "metadata": {},
   "outputs": [],
   "source": [
    "# Copy pasting functions from previous notebook\n",
    "def find_median(frame,var):\n",
    "    temp = frame[frame[var].notnull()]\n",
    "    temp = frame[[var,'Outcome']].groupby('Outcome')[[var]].median().reset_index()\n",
    "    return temp"
   ]
  },
  {
   "cell_type": "code",
   "execution_count": 6,
   "id": "7a583a90",
   "metadata": {},
   "outputs": [],
   "source": [
    "# Copy pasting functions from previous notebook\n",
    "def replace_null(frame,var):\n",
    "    median_df=find_median(frame,var)\n",
    "    var_0=median_df[var].iloc[0]\n",
    "    var_1=median_df[var].iloc[1]\n",
    "    frame.loc[(frame['Outcome'] == 0) & (frame[var].isnull()), var] = var_0\n",
    "    frame.loc[(frame['Outcome'] == 1) & (frame[var].isnull()), var] = var_1\n",
    "    return frame[var].isnull().sum()"
   ]
  },
  {
   "cell_type": "code",
   "execution_count": 7,
   "id": "88ccc91e",
   "metadata": {},
   "outputs": [
    {
     "name": "stdout",
     "output_type": "stream",
     "text": [
      "0 Nulls for Glucose\n",
      "0 Nulls for SkinThickness\n",
      "0 Nulls for Insulin\n",
      "0 Nulls for BMI\n",
      "0 Nulls for BloodPressure\n"
     ]
    }
   ],
   "source": [
    "print(str(replace_null(df_nan,'Glucose'))+ ' Nulls for Glucose')\n",
    "print(str(replace_null(df_nan,'SkinThickness'))+ ' Nulls for SkinThickness')\n",
    "print(str(replace_null(df_nan,'Insulin'))+ ' Nulls for Insulin')\n",
    "print(str(replace_null(df_nan,'BMI'))+ ' Nulls for BMI')\n",
    "print(str(replace_null(df_nan,'BloodPressure'))+ ' Nulls for BloodPressure')\n",
    "# We have successfully handled Nulls"
   ]
  },
  {
   "cell_type": "code",
   "execution_count": 8,
   "id": "04328c9b",
   "metadata": {},
   "outputs": [
    {
     "data": {
      "text/plain": [
       "Pregnancies                 0\n",
       "Glucose                     0\n",
       "BloodPressure               0\n",
       "SkinThickness               0\n",
       "Insulin                     0\n",
       "BMI                         0\n",
       "DiabetesPedigreeFunction    0\n",
       "Age                         0\n",
       "Outcome                     0\n",
       "dtype: int64"
      ]
     },
     "execution_count": 8,
     "metadata": {},
     "output_type": "execute_result"
    }
   ],
   "source": [
    "df_nan.isnull().sum()\n",
    "# Just a confirmation\n",
    "# Everything looks good"
   ]
  },
  {
   "cell_type": "code",
   "execution_count": 9,
   "id": "2cd69e18",
   "metadata": {},
   "outputs": [],
   "source": [
    "# We need to scale our data for uniformity.\n",
    "from sklearn.preprocessing import StandardScaler\n",
    "def std_scalar(df):\n",
    "    std_X = StandardScaler()\n",
    "    x =  pd.DataFrame(std_X.fit_transform(df.drop([\"Outcome\"],axis = 1),),\n",
    "            columns=['Pregnancies', 'Glucose', 'BloodPressure', 'SkinThickness', 'Insulin',\n",
    "           'BMI', 'DiabetesPedigreeFunction', 'Age'])\n",
    "    y=df[\"Outcome\"]\n",
    "    return x,y\n"
   ]
  },
  {
   "cell_type": "code",
   "execution_count": 10,
   "id": "a7d432f1",
   "metadata": {},
   "outputs": [
    {
     "data": {
      "text/html": [
       "<div>\n",
       "<style scoped>\n",
       "    .dataframe tbody tr th:only-of-type {\n",
       "        vertical-align: middle;\n",
       "    }\n",
       "\n",
       "    .dataframe tbody tr th {\n",
       "        vertical-align: top;\n",
       "    }\n",
       "\n",
       "    .dataframe thead th {\n",
       "        text-align: right;\n",
       "    }\n",
       "</style>\n",
       "<table border=\"1\" class=\"dataframe\">\n",
       "  <thead>\n",
       "    <tr style=\"text-align: right;\">\n",
       "      <th></th>\n",
       "      <th>Pregnancies</th>\n",
       "      <th>Glucose</th>\n",
       "      <th>BloodPressure</th>\n",
       "      <th>SkinThickness</th>\n",
       "      <th>Insulin</th>\n",
       "      <th>BMI</th>\n",
       "      <th>DiabetesPedigreeFunction</th>\n",
       "      <th>Age</th>\n",
       "    </tr>\n",
       "  </thead>\n",
       "  <tbody>\n",
       "    <tr>\n",
       "      <th>count</th>\n",
       "      <td>7.680000e+02</td>\n",
       "      <td>7.680000e+02</td>\n",
       "      <td>7.680000e+02</td>\n",
       "      <td>7.680000e+02</td>\n",
       "      <td>7.680000e+02</td>\n",
       "      <td>7.680000e+02</td>\n",
       "      <td>7.680000e+02</td>\n",
       "      <td>7.680000e+02</td>\n",
       "    </tr>\n",
       "    <tr>\n",
       "      <th>mean</th>\n",
       "      <td>-6.476301e-17</td>\n",
       "      <td>1.480297e-16</td>\n",
       "      <td>-3.978299e-16</td>\n",
       "      <td>8.095376e-18</td>\n",
       "      <td>-3.469447e-18</td>\n",
       "      <td>1.318390e-16</td>\n",
       "      <td>2.451743e-16</td>\n",
       "      <td>1.931325e-16</td>\n",
       "    </tr>\n",
       "    <tr>\n",
       "      <th>std</th>\n",
       "      <td>1.000652e+00</td>\n",
       "      <td>1.000652e+00</td>\n",
       "      <td>1.000652e+00</td>\n",
       "      <td>1.000652e+00</td>\n",
       "      <td>1.000652e+00</td>\n",
       "      <td>1.000652e+00</td>\n",
       "      <td>1.000652e+00</td>\n",
       "      <td>1.000652e+00</td>\n",
       "    </tr>\n",
       "    <tr>\n",
       "      <th>min</th>\n",
       "      <td>-1.141852e+00</td>\n",
       "      <td>-2.551447e+00</td>\n",
       "      <td>-3.999727e+00</td>\n",
       "      <td>-2.486187e+00</td>\n",
       "      <td>-1.434747e+00</td>\n",
       "      <td>-2.070186e+00</td>\n",
       "      <td>-1.189553e+00</td>\n",
       "      <td>-1.041549e+00</td>\n",
       "    </tr>\n",
       "    <tr>\n",
       "      <th>25%</th>\n",
       "      <td>-8.448851e-01</td>\n",
       "      <td>-7.202356e-01</td>\n",
       "      <td>-6.934382e-01</td>\n",
       "      <td>-4.603073e-01</td>\n",
       "      <td>-4.408430e-01</td>\n",
       "      <td>-7.176590e-01</td>\n",
       "      <td>-6.889685e-01</td>\n",
       "      <td>-7.862862e-01</td>\n",
       "    </tr>\n",
       "    <tr>\n",
       "      <th>50%</th>\n",
       "      <td>-2.509521e-01</td>\n",
       "      <td>-1.536274e-01</td>\n",
       "      <td>-3.218035e-02</td>\n",
       "      <td>-1.226607e-01</td>\n",
       "      <td>-4.408430e-01</td>\n",
       "      <td>-5.593870e-02</td>\n",
       "      <td>-3.001282e-01</td>\n",
       "      <td>-3.608474e-01</td>\n",
       "    </tr>\n",
       "    <tr>\n",
       "      <th>75%</th>\n",
       "      <td>6.399473e-01</td>\n",
       "      <td>6.100618e-01</td>\n",
       "      <td>6.290775e-01</td>\n",
       "      <td>3.275348e-01</td>\n",
       "      <td>3.116039e-01</td>\n",
       "      <td>6.057816e-01</td>\n",
       "      <td>4.662269e-01</td>\n",
       "      <td>6.602056e-01</td>\n",
       "    </tr>\n",
       "    <tr>\n",
       "      <th>max</th>\n",
       "      <td>3.906578e+00</td>\n",
       "      <td>2.539814e+00</td>\n",
       "      <td>4.100681e+00</td>\n",
       "      <td>7.868309e+00</td>\n",
       "      <td>7.909072e+00</td>\n",
       "      <td>5.041489e+00</td>\n",
       "      <td>5.883565e+00</td>\n",
       "      <td>4.063716e+00</td>\n",
       "    </tr>\n",
       "  </tbody>\n",
       "</table>\n",
       "</div>"
      ],
      "text/plain": [
       "        Pregnancies       Glucose  BloodPressure  SkinThickness       Insulin  \\\n",
       "count  7.680000e+02  7.680000e+02   7.680000e+02   7.680000e+02  7.680000e+02   \n",
       "mean  -6.476301e-17  1.480297e-16  -3.978299e-16   8.095376e-18 -3.469447e-18   \n",
       "std    1.000652e+00  1.000652e+00   1.000652e+00   1.000652e+00  1.000652e+00   \n",
       "min   -1.141852e+00 -2.551447e+00  -3.999727e+00  -2.486187e+00 -1.434747e+00   \n",
       "25%   -8.448851e-01 -7.202356e-01  -6.934382e-01  -4.603073e-01 -4.408430e-01   \n",
       "50%   -2.509521e-01 -1.536274e-01  -3.218035e-02  -1.226607e-01 -4.408430e-01   \n",
       "75%    6.399473e-01  6.100618e-01   6.290775e-01   3.275348e-01  3.116039e-01   \n",
       "max    3.906578e+00  2.539814e+00   4.100681e+00   7.868309e+00  7.909072e+00   \n",
       "\n",
       "                BMI  DiabetesPedigreeFunction           Age  \n",
       "count  7.680000e+02              7.680000e+02  7.680000e+02  \n",
       "mean   1.318390e-16              2.451743e-16  1.931325e-16  \n",
       "std    1.000652e+00              1.000652e+00  1.000652e+00  \n",
       "min   -2.070186e+00             -1.189553e+00 -1.041549e+00  \n",
       "25%   -7.176590e-01             -6.889685e-01 -7.862862e-01  \n",
       "50%   -5.593870e-02             -3.001282e-01 -3.608474e-01  \n",
       "75%    6.057816e-01              4.662269e-01  6.602056e-01  \n",
       "max    5.041489e+00              5.883565e+00  4.063716e+00  "
      ]
     },
     "execution_count": 10,
     "metadata": {},
     "output_type": "execute_result"
    }
   ],
   "source": [
    "X,Y=std_scalar(df_nan)\n",
    "X.describe()\n",
    "# Scaled data looks fine"
   ]
  },
  {
   "cell_type": "code",
   "execution_count": 11,
   "id": "009dbacc",
   "metadata": {},
   "outputs": [
    {
     "data": {
      "text/plain": [
       "0    1\n",
       "1    0\n",
       "2    1\n",
       "3    0\n",
       "4    1\n",
       "Name: Outcome, dtype: int64"
      ]
     },
     "execution_count": 11,
     "metadata": {},
     "output_type": "execute_result"
    }
   ],
   "source": [
    "Y.head()"
   ]
  },
  {
   "cell_type": "code",
   "execution_count": 12,
   "id": "a46e924a",
   "metadata": {},
   "outputs": [],
   "source": [
    "#Keeping train  size as 0.8\n",
    "from sklearn.model_selection import train_test_split\n",
    "X_train,X_test,Y_train,Y_test = train_test_split(X,Y,test_size=0.2,random_state=20, stratify=Y)\n"
   ]
  },
  {
   "cell_type": "code",
   "execution_count": 13,
   "id": "8becfc0d",
   "metadata": {},
   "outputs": [],
   "source": [
    "# We are good to go with baseline model\n",
    "# Let's first implement KNN\n",
    "from sklearn.neighbors import KNeighborsClassifier\n",
    "test_scores = []\n",
    "train_scores = []\n",
    "for i in range(5,15):\n",
    "    neigh = KNeighborsClassifier(n_neighbors=i)\n",
    "    neigh.fit(X_train, Y_train)\n",
    "    train_scores.append(neigh.score(X_train,Y_train))\n",
    "    test_scores.append(neigh.score(X_test,Y_test))"
   ]
  },
  {
   "cell_type": "code",
   "execution_count": 14,
   "id": "941461b4",
   "metadata": {},
   "outputs": [
    {
     "name": "stdout",
     "output_type": "stream",
     "text": [
      "Max train_scores is 85.66775244299674 for k = 5\n"
     ]
    }
   ],
   "source": [
    "print('Max train_scores is ' + str(max(train_scores)*100) + ' for k = '+ \n",
    "      str(train_scores.index(max(train_scores))+5))"
   ]
  },
  {
   "cell_type": "code",
   "execution_count": 15,
   "id": "57154bc6",
   "metadata": {},
   "outputs": [
    {
     "name": "stdout",
     "output_type": "stream",
     "text": [
      "Max test_scores is 87.01298701298701 for k = 13\n"
     ]
    }
   ],
   "source": [
    "print('Max test_scores is ' + str(max(test_scores)*100) + ' for k = '+ \n",
    "      str(test_scores.index(max(test_scores))+5))\n",
    "# K=13 has generalized well for our data.\n"
   ]
  },
  {
   "cell_type": "code",
   "execution_count": 16,
   "id": "2049ca32",
   "metadata": {},
   "outputs": [
    {
     "data": {
      "text/plain": [
       "0.8311688311688312"
      ]
     },
     "execution_count": 16,
     "metadata": {},
     "output_type": "execute_result"
    }
   ],
   "source": [
    "# Lets try Logistic regression now\n",
    "from sklearn.linear_model import LogisticRegression\n",
    "log_model = LogisticRegression(random_state=20, penalty='l2').fit(X_train, Y_train)\n",
    "log_pred=log_model.predict(X_test)\n",
    "log_model.score(X_test, Y_test)"
   ]
  },
  {
   "cell_type": "code",
   "execution_count": 17,
   "id": "65558008",
   "metadata": {},
   "outputs": [
    {
     "data": {
      "text/plain": [
       "0.8896103896103896"
      ]
     },
     "execution_count": 17,
     "metadata": {},
     "output_type": "execute_result"
    }
   ],
   "source": [
    "# Support Vector Machines\n",
    "from sklearn import svm\n",
    "svm_model = svm.SVC().fit(X_train, Y_train)\n",
    "svm_pred=svm_model.predict(X_test)\n",
    "svm_model.score(X_test, Y_test)\n",
    "# Almost 89% Accuracy"
   ]
  },
  {
   "cell_type": "code",
   "execution_count": 18,
   "id": "4346bc48",
   "metadata": {},
   "outputs": [],
   "source": [
    "# Function to evaluate model performance\n",
    "def model_perf(pred,Y_test):\n",
    "    cmp_list=[]\n",
    "    for i,j in zip(pred,Y_test):\n",
    "        if i==j:\n",
    "            cmp_list.append(1)\n",
    "        else:\n",
    "            cmp_list.append(0)\n",
    "    return cmp_list"
   ]
  },
  {
   "cell_type": "code",
   "execution_count": 19,
   "id": "40c4b93a",
   "metadata": {},
   "outputs": [],
   "source": [
    "cmp_list=model_perf(svm_pred,Y_test)"
   ]
  },
  {
   "cell_type": "code",
   "execution_count": 20,
   "id": "0a065977",
   "metadata": {},
   "outputs": [
    {
     "name": "stdout",
     "output_type": "stream",
     "text": [
      "Model Accuracy Confirmation :0.8896103896103896\n"
     ]
    }
   ],
   "source": [
    "print('Model Accuracy Confirmation :'+ str(cmp_list.count(1)/len(Y_test)))"
   ]
  },
  {
   "cell_type": "code",
   "execution_count": 21,
   "id": "d7941f01",
   "metadata": {},
   "outputs": [
    {
     "data": {
      "text/plain": [
       "0.8571428571428571"
      ]
     },
     "execution_count": 21,
     "metadata": {},
     "output_type": "execute_result"
    }
   ],
   "source": [
    "# Random Forest\n",
    "from sklearn.ensemble import RandomForestClassifier\n",
    "rf_model = RandomForestClassifier(max_depth=2, random_state=20).fit(X_train, Y_train)\n",
    "rf_pred=rf_model.predict(X_test)\n",
    "rf_model.score(X_test, Y_test)\n",
    "# Almost 86% Accuracy\n"
   ]
  },
  {
   "cell_type": "code",
   "execution_count": null,
   "id": "c63f1063",
   "metadata": {},
   "outputs": [],
   "source": [
    "pip install tensorflow\n"
   ]
  },
  {
   "cell_type": "code",
   "execution_count": 24,
   "id": "ede13d8e",
   "metadata": {},
   "outputs": [
    {
     "name": "stderr",
     "output_type": "stream",
     "text": [
      "c:\\Users\\User\\miniconda3\\envs\\flask_env\\Lib\\site-packages\\keras\\src\\layers\\core\\dense.py:87: UserWarning: Do not pass an `input_shape`/`input_dim` argument to a layer. When using Sequential models, prefer using an `Input(shape)` object as the first layer in the model instead.\n",
      "  super().__init__(activity_regularizer=activity_regularizer, **kwargs)\n"
     ]
    }
   ],
   "source": [
    "import tensorflow as tf\n",
    "def build_model():\n",
    "    model = tf.keras.Sequential([\n",
    "    tf.keras.layers.Dense(8, activation='relu', input_shape=[len(X_train.keys())]),\n",
    "    tf.keras.layers.Dense(4, activation='relu'),\n",
    "    tf.keras.layers.Dense(2, activation='relu'),\n",
    "    tf.keras.layers.Dense(1,activation='sigmoid')\n",
    "  ])\n",
    "\n",
    "    optimizer = tf.keras.optimizers.Adam(learning_rate=0.01, beta_1=0.9, beta_2=0.999, epsilon=1e-07)\n",
    "\n",
    "    model.compile(loss='binary_crossentropy', optimizer=optimizer, metrics=['accuracy'])\n",
    "    return model\n",
    "\n",
    "neural_model = build_model()\n"
   ]
  },
  {
   "cell_type": "code",
   "execution_count": 25,
   "id": "973686e4",
   "metadata": {},
   "outputs": [
    {
     "data": {
      "text/html": [
       "<pre style=\"white-space:pre;overflow-x:auto;line-height:normal;font-family:Menlo,'DejaVu Sans Mono',consolas,'Courier New',monospace\"><span style=\"font-weight: bold\">Model: \"sequential\"</span>\n",
       "</pre>\n"
      ],
      "text/plain": [
       "\u001b[1mModel: \"sequential\"\u001b[0m\n"
      ]
     },
     "metadata": {},
     "output_type": "display_data"
    },
    {
     "data": {
      "text/html": [
       "<pre style=\"white-space:pre;overflow-x:auto;line-height:normal;font-family:Menlo,'DejaVu Sans Mono',consolas,'Courier New',monospace\">┏━━━━━━━━━━━━━━━━━━━━━━━━━━━━━━━━━┳━━━━━━━━━━━━━━━━━━━━━━━━┳━━━━━━━━━━━━━━━┓\n",
       "┃<span style=\"font-weight: bold\"> Layer (type)                    </span>┃<span style=\"font-weight: bold\"> Output Shape           </span>┃<span style=\"font-weight: bold\">       Param # </span>┃\n",
       "┡━━━━━━━━━━━━━━━━━━━━━━━━━━━━━━━━━╇━━━━━━━━━━━━━━━━━━━━━━━━╇━━━━━━━━━━━━━━━┩\n",
       "│ dense (<span style=\"color: #0087ff; text-decoration-color: #0087ff\">Dense</span>)                   │ (<span style=\"color: #00d7ff; text-decoration-color: #00d7ff\">None</span>, <span style=\"color: #00af00; text-decoration-color: #00af00\">8</span>)              │            <span style=\"color: #00af00; text-decoration-color: #00af00\">72</span> │\n",
       "├─────────────────────────────────┼────────────────────────┼───────────────┤\n",
       "│ dense_1 (<span style=\"color: #0087ff; text-decoration-color: #0087ff\">Dense</span>)                 │ (<span style=\"color: #00d7ff; text-decoration-color: #00d7ff\">None</span>, <span style=\"color: #00af00; text-decoration-color: #00af00\">4</span>)              │            <span style=\"color: #00af00; text-decoration-color: #00af00\">36</span> │\n",
       "├─────────────────────────────────┼────────────────────────┼───────────────┤\n",
       "│ dense_2 (<span style=\"color: #0087ff; text-decoration-color: #0087ff\">Dense</span>)                 │ (<span style=\"color: #00d7ff; text-decoration-color: #00d7ff\">None</span>, <span style=\"color: #00af00; text-decoration-color: #00af00\">2</span>)              │            <span style=\"color: #00af00; text-decoration-color: #00af00\">10</span> │\n",
       "├─────────────────────────────────┼────────────────────────┼───────────────┤\n",
       "│ dense_3 (<span style=\"color: #0087ff; text-decoration-color: #0087ff\">Dense</span>)                 │ (<span style=\"color: #00d7ff; text-decoration-color: #00d7ff\">None</span>, <span style=\"color: #00af00; text-decoration-color: #00af00\">1</span>)              │             <span style=\"color: #00af00; text-decoration-color: #00af00\">3</span> │\n",
       "└─────────────────────────────────┴────────────────────────┴───────────────┘\n",
       "</pre>\n"
      ],
      "text/plain": [
       "┏━━━━━━━━━━━━━━━━━━━━━━━━━━━━━━━━━┳━━━━━━━━━━━━━━━━━━━━━━━━┳━━━━━━━━━━━━━━━┓\n",
       "┃\u001b[1m \u001b[0m\u001b[1mLayer (type)                   \u001b[0m\u001b[1m \u001b[0m┃\u001b[1m \u001b[0m\u001b[1mOutput Shape          \u001b[0m\u001b[1m \u001b[0m┃\u001b[1m \u001b[0m\u001b[1m      Param #\u001b[0m\u001b[1m \u001b[0m┃\n",
       "┡━━━━━━━━━━━━━━━━━━━━━━━━━━━━━━━━━╇━━━━━━━━━━━━━━━━━━━━━━━━╇━━━━━━━━━━━━━━━┩\n",
       "│ dense (\u001b[38;5;33mDense\u001b[0m)                   │ (\u001b[38;5;45mNone\u001b[0m, \u001b[38;5;34m8\u001b[0m)              │            \u001b[38;5;34m72\u001b[0m │\n",
       "├─────────────────────────────────┼────────────────────────┼───────────────┤\n",
       "│ dense_1 (\u001b[38;5;33mDense\u001b[0m)                 │ (\u001b[38;5;45mNone\u001b[0m, \u001b[38;5;34m4\u001b[0m)              │            \u001b[38;5;34m36\u001b[0m │\n",
       "├─────────────────────────────────┼────────────────────────┼───────────────┤\n",
       "│ dense_2 (\u001b[38;5;33mDense\u001b[0m)                 │ (\u001b[38;5;45mNone\u001b[0m, \u001b[38;5;34m2\u001b[0m)              │            \u001b[38;5;34m10\u001b[0m │\n",
       "├─────────────────────────────────┼────────────────────────┼───────────────┤\n",
       "│ dense_3 (\u001b[38;5;33mDense\u001b[0m)                 │ (\u001b[38;5;45mNone\u001b[0m, \u001b[38;5;34m1\u001b[0m)              │             \u001b[38;5;34m3\u001b[0m │\n",
       "└─────────────────────────────────┴────────────────────────┴───────────────┘\n"
      ]
     },
     "metadata": {},
     "output_type": "display_data"
    },
    {
     "data": {
      "text/html": [
       "<pre style=\"white-space:pre;overflow-x:auto;line-height:normal;font-family:Menlo,'DejaVu Sans Mono',consolas,'Courier New',monospace\"><span style=\"font-weight: bold\"> Total params: </span><span style=\"color: #00af00; text-decoration-color: #00af00\">121</span> (484.00 B)\n",
       "</pre>\n"
      ],
      "text/plain": [
       "\u001b[1m Total params: \u001b[0m\u001b[38;5;34m121\u001b[0m (484.00 B)\n"
      ]
     },
     "metadata": {},
     "output_type": "display_data"
    },
    {
     "data": {
      "text/html": [
       "<pre style=\"white-space:pre;overflow-x:auto;line-height:normal;font-family:Menlo,'DejaVu Sans Mono',consolas,'Courier New',monospace\"><span style=\"font-weight: bold\"> Trainable params: </span><span style=\"color: #00af00; text-decoration-color: #00af00\">121</span> (484.00 B)\n",
       "</pre>\n"
      ],
      "text/plain": [
       "\u001b[1m Trainable params: \u001b[0m\u001b[38;5;34m121\u001b[0m (484.00 B)\n"
      ]
     },
     "metadata": {},
     "output_type": "display_data"
    },
    {
     "data": {
      "text/html": [
       "<pre style=\"white-space:pre;overflow-x:auto;line-height:normal;font-family:Menlo,'DejaVu Sans Mono',consolas,'Courier New',monospace\"><span style=\"font-weight: bold\"> Non-trainable params: </span><span style=\"color: #00af00; text-decoration-color: #00af00\">0</span> (0.00 B)\n",
       "</pre>\n"
      ],
      "text/plain": [
       "\u001b[1m Non-trainable params: \u001b[0m\u001b[38;5;34m0\u001b[0m (0.00 B)\n"
      ]
     },
     "metadata": {},
     "output_type": "display_data"
    }
   ],
   "source": [
    "neural_model.summary()"
   ]
  },
  {
   "cell_type": "code",
   "execution_count": 26,
   "id": "6853967f",
   "metadata": {},
   "outputs": [
    {
     "name": "stdout",
     "output_type": "stream",
     "text": [
      "Epoch 1/100\n",
      "18/18 - 2s - 107ms/step - accuracy: 0.6413 - loss: 0.5839 - val_accuracy: 0.7419 - val_loss: 0.3964\n",
      "Epoch 2/100\n",
      "18/18 - 0s - 8ms/step - accuracy: 0.6594 - loss: 0.5024 - val_accuracy: 0.8065 - val_loss: 0.3473\n",
      "Epoch 3/100\n",
      "18/18 - 0s - 13ms/step - accuracy: 0.7917 - loss: 0.4682 - val_accuracy: 0.8387 - val_loss: 0.3385\n",
      "Epoch 4/100\n",
      "18/18 - 0s - 8ms/step - accuracy: 0.8134 - loss: 0.4428 - val_accuracy: 0.8710 - val_loss: 0.3165\n",
      "Epoch 5/100\n",
      "18/18 - 0s - 7ms/step - accuracy: 0.8315 - loss: 0.4199 - val_accuracy: 0.8710 - val_loss: 0.3000\n",
      "Epoch 6/100\n",
      "18/18 - 0s - 7ms/step - accuracy: 0.8514 - loss: 0.3991 - val_accuracy: 0.8710 - val_loss: 0.2823\n",
      "Epoch 7/100\n",
      "18/18 - 0s - 7ms/step - accuracy: 0.8587 - loss: 0.3854 - val_accuracy: 0.9032 - val_loss: 0.2624\n",
      "Epoch 8/100\n",
      "18/18 - 0s - 8ms/step - accuracy: 0.8641 - loss: 0.3745 - val_accuracy: 0.9032 - val_loss: 0.2502\n",
      "Epoch 9/100\n",
      "18/18 - 0s - 8ms/step - accuracy: 0.8623 - loss: 0.3664 - val_accuracy: 0.9032 - val_loss: 0.2572\n",
      "Epoch 10/100\n",
      "18/18 - 0s - 8ms/step - accuracy: 0.8605 - loss: 0.3582 - val_accuracy: 0.9194 - val_loss: 0.2535\n",
      "Epoch 11/100\n",
      "18/18 - 0s - 7ms/step - accuracy: 0.8569 - loss: 0.3593 - val_accuracy: 0.8710 - val_loss: 0.2562\n",
      "Epoch 12/100\n",
      "18/18 - 0s - 7ms/step - accuracy: 0.8605 - loss: 0.3458 - val_accuracy: 0.9032 - val_loss: 0.2372\n",
      "Epoch 13/100\n",
      "18/18 - 0s - 8ms/step - accuracy: 0.8696 - loss: 0.3400 - val_accuracy: 0.9032 - val_loss: 0.2492\n",
      "Epoch 14/100\n",
      "18/18 - 0s - 7ms/step - accuracy: 0.8841 - loss: 0.3337 - val_accuracy: 0.9032 - val_loss: 0.2420\n",
      "Epoch 15/100\n",
      "18/18 - 0s - 7ms/step - accuracy: 0.8714 - loss: 0.3294 - val_accuracy: 0.9032 - val_loss: 0.2348\n",
      "Epoch 16/100\n",
      "18/18 - 0s - 8ms/step - accuracy: 0.8750 - loss: 0.3309 - val_accuracy: 0.9032 - val_loss: 0.2542\n",
      "Epoch 17/100\n",
      "18/18 - 0s - 7ms/step - accuracy: 0.8750 - loss: 0.3251 - val_accuracy: 0.9355 - val_loss: 0.2292\n",
      "Epoch 18/100\n",
      "18/18 - 0s - 7ms/step - accuracy: 0.8696 - loss: 0.3156 - val_accuracy: 0.9032 - val_loss: 0.2301\n",
      "Epoch 19/100\n",
      "18/18 - 0s - 7ms/step - accuracy: 0.8750 - loss: 0.3129 - val_accuracy: 0.9194 - val_loss: 0.2350\n",
      "Epoch 20/100\n",
      "18/18 - 0s - 7ms/step - accuracy: 0.8859 - loss: 0.3049 - val_accuracy: 0.9194 - val_loss: 0.2178\n",
      "Epoch 21/100\n",
      "18/18 - 0s - 7ms/step - accuracy: 0.8877 - loss: 0.3002 - val_accuracy: 0.9032 - val_loss: 0.2254\n",
      "Epoch 22/100\n",
      "18/18 - 0s - 7ms/step - accuracy: 0.8859 - loss: 0.2984 - val_accuracy: 0.9355 - val_loss: 0.2205\n",
      "Epoch 23/100\n",
      "18/18 - 0s - 7ms/step - accuracy: 0.8913 - loss: 0.2991 - val_accuracy: 0.9194 - val_loss: 0.2331\n",
      "Epoch 24/100\n",
      "18/18 - 0s - 7ms/step - accuracy: 0.8949 - loss: 0.2866 - val_accuracy: 0.9194 - val_loss: 0.2175\n",
      "Epoch 25/100\n",
      "18/18 - 0s - 7ms/step - accuracy: 0.9076 - loss: 0.2813 - val_accuracy: 0.9194 - val_loss: 0.2100\n",
      "Epoch 26/100\n",
      "18/18 - 0s - 6ms/step - accuracy: 0.8986 - loss: 0.2801 - val_accuracy: 0.9194 - val_loss: 0.2222\n",
      "Epoch 27/100\n",
      "18/18 - 0s - 7ms/step - accuracy: 0.9040 - loss: 0.2784 - val_accuracy: 0.9194 - val_loss: 0.1922\n",
      "Epoch 28/100\n",
      "18/18 - 0s - 7ms/step - accuracy: 0.8841 - loss: 0.2933 - val_accuracy: 0.9355 - val_loss: 0.2217\n",
      "Epoch 29/100\n",
      "18/18 - 0s - 6ms/step - accuracy: 0.8895 - loss: 0.2916 - val_accuracy: 0.9032 - val_loss: 0.2156\n",
      "Epoch 30/100\n",
      "18/18 - 0s - 7ms/step - accuracy: 0.9022 - loss: 0.2744 - val_accuracy: 0.9194 - val_loss: 0.2094\n",
      "Epoch 31/100\n",
      "18/18 - 0s - 7ms/step - accuracy: 0.8986 - loss: 0.2732 - val_accuracy: 0.9194 - val_loss: 0.2195\n",
      "Epoch 32/100\n",
      "18/18 - 0s - 8ms/step - accuracy: 0.9058 - loss: 0.2671 - val_accuracy: 0.8871 - val_loss: 0.2290\n",
      "Epoch 33/100\n",
      "18/18 - 0s - 7ms/step - accuracy: 0.9076 - loss: 0.2747 - val_accuracy: 0.9194 - val_loss: 0.2181\n",
      "Epoch 34/100\n",
      "18/18 - 0s - 7ms/step - accuracy: 0.9004 - loss: 0.2686 - val_accuracy: 0.9355 - val_loss: 0.2137\n",
      "Epoch 35/100\n",
      "18/18 - 0s - 7ms/step - accuracy: 0.9076 - loss: 0.2652 - val_accuracy: 0.9355 - val_loss: 0.2181\n",
      "Epoch 36/100\n",
      "18/18 - 0s - 7ms/step - accuracy: 0.9112 - loss: 0.2524 - val_accuracy: 0.9194 - val_loss: 0.2322\n",
      "Epoch 37/100\n",
      "18/18 - 0s - 6ms/step - accuracy: 0.9167 - loss: 0.2525 - val_accuracy: 0.9194 - val_loss: 0.2308\n",
      "Epoch 38/100\n",
      "18/18 - 0s - 6ms/step - accuracy: 0.9185 - loss: 0.2500 - val_accuracy: 0.9194 - val_loss: 0.2284\n",
      "Epoch 39/100\n",
      "18/18 - 0s - 8ms/step - accuracy: 0.9130 - loss: 0.2450 - val_accuracy: 0.9194 - val_loss: 0.2380\n",
      "Epoch 40/100\n",
      "18/18 - 0s - 7ms/step - accuracy: 0.9167 - loss: 0.2456 - val_accuracy: 0.9194 - val_loss: 0.2337\n",
      "Epoch 41/100\n",
      "18/18 - 0s - 7ms/step - accuracy: 0.9149 - loss: 0.2444 - val_accuracy: 0.9194 - val_loss: 0.2449\n",
      "Epoch 42/100\n",
      "18/18 - 0s - 8ms/step - accuracy: 0.9130 - loss: 0.2386 - val_accuracy: 0.9194 - val_loss: 0.2431\n",
      "Epoch 43/100\n",
      "18/18 - 0s - 8ms/step - accuracy: 0.9112 - loss: 0.2393 - val_accuracy: 0.9032 - val_loss: 0.2464\n",
      "Epoch 44/100\n",
      "18/18 - 0s - 10ms/step - accuracy: 0.9076 - loss: 0.2472 - val_accuracy: 0.9194 - val_loss: 0.2438\n",
      "Epoch 45/100\n",
      "18/18 - 0s - 12ms/step - accuracy: 0.9149 - loss: 0.2460 - val_accuracy: 0.9194 - val_loss: 0.2580\n",
      "Epoch 46/100\n",
      "18/18 - 0s - 13ms/step - accuracy: 0.9185 - loss: 0.2331 - val_accuracy: 0.8871 - val_loss: 0.3001\n",
      "Epoch 47/100\n",
      "18/18 - 0s - 13ms/step - accuracy: 0.9112 - loss: 0.2373 - val_accuracy: 0.9194 - val_loss: 0.2644\n",
      "Epoch 48/100\n",
      "18/18 - 0s - 10ms/step - accuracy: 0.9130 - loss: 0.2367 - val_accuracy: 0.9032 - val_loss: 0.2453\n",
      "Epoch 49/100\n",
      "18/18 - 0s - 10ms/step - accuracy: 0.9257 - loss: 0.2313 - val_accuracy: 0.9194 - val_loss: 0.2798\n",
      "Epoch 50/100\n",
      "18/18 - 0s - 10ms/step - accuracy: 0.9149 - loss: 0.2392 - val_accuracy: 0.9032 - val_loss: 0.3015\n",
      "Epoch 51/100\n",
      "18/18 - 0s - 10ms/step - accuracy: 0.9149 - loss: 0.2535 - val_accuracy: 0.9032 - val_loss: 0.2656\n",
      "Epoch 52/100\n",
      "18/18 - 0s - 10ms/step - accuracy: 0.9130 - loss: 0.2438 - val_accuracy: 0.9032 - val_loss: 0.2640\n",
      "Epoch 53/100\n",
      "18/18 - 0s - 10ms/step - accuracy: 0.9094 - loss: 0.2364 - val_accuracy: 0.8871 - val_loss: 0.2700\n",
      "Epoch 54/100\n",
      "18/18 - 0s - 9ms/step - accuracy: 0.9185 - loss: 0.2269 - val_accuracy: 0.9194 - val_loss: 0.2722\n",
      "Epoch 55/100\n",
      "18/18 - 0s - 9ms/step - accuracy: 0.9149 - loss: 0.2301 - val_accuracy: 0.9032 - val_loss: 0.3048\n",
      "Epoch 56/100\n",
      "18/18 - 0s - 10ms/step - accuracy: 0.9094 - loss: 0.2356 - val_accuracy: 0.9194 - val_loss: 0.2690\n",
      "Epoch 57/100\n",
      "18/18 - 0s - 10ms/step - accuracy: 0.9167 - loss: 0.2315 - val_accuracy: 0.8871 - val_loss: 0.3105\n",
      "Epoch 58/100\n",
      "18/18 - 0s - 8ms/step - accuracy: 0.9203 - loss: 0.2247 - val_accuracy: 0.9032 - val_loss: 0.3084\n",
      "Epoch 59/100\n",
      "18/18 - 0s - 8ms/step - accuracy: 0.9130 - loss: 0.2248 - val_accuracy: 0.9032 - val_loss: 0.3077\n",
      "Epoch 60/100\n",
      "18/18 - 0s - 9ms/step - accuracy: 0.9167 - loss: 0.2383 - val_accuracy: 0.9194 - val_loss: 0.2746\n",
      "Epoch 61/100\n",
      "18/18 - 0s - 9ms/step - accuracy: 0.9167 - loss: 0.2303 - val_accuracy: 0.8710 - val_loss: 0.3287\n",
      "Epoch 62/100\n",
      "18/18 - 0s - 9ms/step - accuracy: 0.9094 - loss: 0.2342 - val_accuracy: 0.9194 - val_loss: 0.2558\n",
      "Epoch 63/100\n",
      "18/18 - 0s - 9ms/step - accuracy: 0.9167 - loss: 0.2242 - val_accuracy: 0.8871 - val_loss: 0.3214\n",
      "Epoch 64/100\n",
      "18/18 - 0s - 9ms/step - accuracy: 0.9330 - loss: 0.2148 - val_accuracy: 0.9032 - val_loss: 0.2823\n",
      "Epoch 65/100\n",
      "18/18 - 0s - 9ms/step - accuracy: 0.9239 - loss: 0.2194 - val_accuracy: 0.8871 - val_loss: 0.3224\n",
      "Epoch 66/100\n",
      "18/18 - 0s - 9ms/step - accuracy: 0.9257 - loss: 0.2273 - val_accuracy: 0.9032 - val_loss: 0.3324\n",
      "Epoch 67/100\n",
      "18/18 - 0s - 11ms/step - accuracy: 0.9221 - loss: 0.2213 - val_accuracy: 0.8871 - val_loss: 0.3107\n",
      "Epoch 68/100\n",
      "18/18 - 0s - 10ms/step - accuracy: 0.9275 - loss: 0.2184 - val_accuracy: 0.9032 - val_loss: 0.2993\n",
      "Epoch 69/100\n",
      "18/18 - 0s - 9ms/step - accuracy: 0.9203 - loss: 0.2164 - val_accuracy: 0.8871 - val_loss: 0.3331\n",
      "Epoch 70/100\n",
      "18/18 - 0s - 8ms/step - accuracy: 0.9149 - loss: 0.2218 - val_accuracy: 0.8871 - val_loss: 0.3275\n",
      "Epoch 71/100\n",
      "18/18 - 0s - 8ms/step - accuracy: 0.9094 - loss: 0.2172 - val_accuracy: 0.8871 - val_loss: 0.3607\n",
      "Epoch 72/100\n",
      "18/18 - 0s - 8ms/step - accuracy: 0.9221 - loss: 0.2164 - val_accuracy: 0.8871 - val_loss: 0.3360\n",
      "Epoch 73/100\n",
      "18/18 - 0s - 8ms/step - accuracy: 0.9221 - loss: 0.2136 - val_accuracy: 0.8710 - val_loss: 0.3631\n",
      "Epoch 74/100\n",
      "18/18 - 0s - 9ms/step - accuracy: 0.9149 - loss: 0.2231 - val_accuracy: 0.9032 - val_loss: 0.3508\n",
      "Epoch 75/100\n",
      "18/18 - 0s - 10ms/step - accuracy: 0.9058 - loss: 0.2610 - val_accuracy: 0.9194 - val_loss: 0.3182\n",
      "Epoch 76/100\n",
      "18/18 - 0s - 10ms/step - accuracy: 0.9076 - loss: 0.2334 - val_accuracy: 0.8871 - val_loss: 0.3913\n",
      "Epoch 77/100\n",
      "18/18 - 0s - 10ms/step - accuracy: 0.9167 - loss: 0.2372 - val_accuracy: 0.9194 - val_loss: 0.3148\n",
      "Epoch 78/100\n",
      "18/18 - 0s - 8ms/step - accuracy: 0.9130 - loss: 0.2494 - val_accuracy: 0.9355 - val_loss: 0.2674\n",
      "Epoch 79/100\n",
      "18/18 - 0s - 9ms/step - accuracy: 0.9167 - loss: 0.2290 - val_accuracy: 0.9355 - val_loss: 0.2629\n",
      "Epoch 80/100\n",
      "18/18 - 0s - 9ms/step - accuracy: 0.9167 - loss: 0.2313 - val_accuracy: 0.9194 - val_loss: 0.2823\n",
      "Epoch 81/100\n",
      "18/18 - 0s - 9ms/step - accuracy: 0.9185 - loss: 0.2157 - val_accuracy: 0.9355 - val_loss: 0.2770\n",
      "Epoch 82/100\n",
      "18/18 - 0s - 8ms/step - accuracy: 0.9257 - loss: 0.2138 - val_accuracy: 0.9355 - val_loss: 0.2778\n",
      "Epoch 83/100\n",
      "18/18 - 0s - 9ms/step - accuracy: 0.9076 - loss: 0.2456 - val_accuracy: 0.9032 - val_loss: 0.3001\n",
      "Epoch 84/100\n",
      "18/18 - 0s - 9ms/step - accuracy: 0.9094 - loss: 0.2266 - val_accuracy: 0.9194 - val_loss: 0.2978\n",
      "Epoch 85/100\n",
      "18/18 - 0s - 9ms/step - accuracy: 0.9221 - loss: 0.2222 - val_accuracy: 0.9194 - val_loss: 0.3030\n",
      "Epoch 86/100\n",
      "18/18 - 0s - 9ms/step - accuracy: 0.9167 - loss: 0.2115 - val_accuracy: 0.9194 - val_loss: 0.3500\n",
      "Epoch 87/100\n",
      "18/18 - 0s - 10ms/step - accuracy: 0.9185 - loss: 0.2093 - val_accuracy: 0.9032 - val_loss: 0.3073\n",
      "Epoch 88/100\n",
      "18/18 - 0s - 9ms/step - accuracy: 0.9149 - loss: 0.2136 - val_accuracy: 0.9032 - val_loss: 0.3496\n",
      "Epoch 89/100\n",
      "18/18 - 0s - 9ms/step - accuracy: 0.9257 - loss: 0.2111 - val_accuracy: 0.9032 - val_loss: 0.3417\n",
      "Epoch 90/100\n",
      "18/18 - 0s - 9ms/step - accuracy: 0.9239 - loss: 0.2052 - val_accuracy: 0.9032 - val_loss: 0.3343\n",
      "Epoch 91/100\n",
      "18/18 - 0s - 9ms/step - accuracy: 0.9293 - loss: 0.2012 - val_accuracy: 0.9032 - val_loss: 0.3453\n",
      "Epoch 92/100\n",
      "18/18 - 0s - 9ms/step - accuracy: 0.9203 - loss: 0.2020 - val_accuracy: 0.8710 - val_loss: 0.3577\n",
      "Epoch 93/100\n",
      "18/18 - 0s - 9ms/step - accuracy: 0.9257 - loss: 0.2010 - val_accuracy: 0.9032 - val_loss: 0.3670\n",
      "Epoch 94/100\n",
      "18/18 - 0s - 8ms/step - accuracy: 0.9275 - loss: 0.1992 - val_accuracy: 0.9032 - val_loss: 0.3452\n",
      "Epoch 95/100\n",
      "18/18 - 0s - 8ms/step - accuracy: 0.9257 - loss: 0.2035 - val_accuracy: 0.9032 - val_loss: 0.3315\n",
      "Epoch 96/100\n",
      "18/18 - 0s - 9ms/step - accuracy: 0.9185 - loss: 0.2135 - val_accuracy: 0.9194 - val_loss: 0.3341\n",
      "Epoch 97/100\n",
      "18/18 - 0s - 9ms/step - accuracy: 0.9149 - loss: 0.2237 - val_accuracy: 0.8871 - val_loss: 0.3435\n",
      "Epoch 98/100\n",
      "18/18 - 0s - 9ms/step - accuracy: 0.9167 - loss: 0.2203 - val_accuracy: 0.8871 - val_loss: 0.3670\n",
      "Epoch 99/100\n",
      "18/18 - 0s - 8ms/step - accuracy: 0.9167 - loss: 0.2107 - val_accuracy: 0.9032 - val_loss: 0.3302\n",
      "Epoch 100/100\n",
      "18/18 - 0s - 9ms/step - accuracy: 0.9185 - loss: 0.2138 - val_accuracy: 0.8871 - val_loss: 0.3549\n"
     ]
    }
   ],
   "source": [
    "# Keeping EPOCHs high as dataset is small.\n",
    "EPOCHS = 100\n",
    "neural_pred = neural_model.fit(X_train, Y_train,epochs=EPOCHS, validation_split=0.1, verbose=2)"
   ]
  },
  {
   "cell_type": "code",
   "execution_count": 27,
   "id": "1f10f5fc",
   "metadata": {},
   "outputs": [
    {
     "data": {
      "text/html": [
       "<div>\n",
       "<style scoped>\n",
       "    .dataframe tbody tr th:only-of-type {\n",
       "        vertical-align: middle;\n",
       "    }\n",
       "\n",
       "    .dataframe tbody tr th {\n",
       "        vertical-align: top;\n",
       "    }\n",
       "\n",
       "    .dataframe thead th {\n",
       "        text-align: right;\n",
       "    }\n",
       "</style>\n",
       "<table border=\"1\" class=\"dataframe\">\n",
       "  <thead>\n",
       "    <tr style=\"text-align: right;\">\n",
       "      <th></th>\n",
       "      <th>accuracy</th>\n",
       "      <th>loss</th>\n",
       "      <th>val_accuracy</th>\n",
       "      <th>val_loss</th>\n",
       "      <th>epoch</th>\n",
       "    </tr>\n",
       "  </thead>\n",
       "  <tbody>\n",
       "    <tr>\n",
       "      <th>95</th>\n",
       "      <td>0.918478</td>\n",
       "      <td>0.213504</td>\n",
       "      <td>0.919355</td>\n",
       "      <td>0.334062</td>\n",
       "      <td>95</td>\n",
       "    </tr>\n",
       "    <tr>\n",
       "      <th>96</th>\n",
       "      <td>0.914855</td>\n",
       "      <td>0.223692</td>\n",
       "      <td>0.887097</td>\n",
       "      <td>0.343549</td>\n",
       "      <td>96</td>\n",
       "    </tr>\n",
       "    <tr>\n",
       "      <th>97</th>\n",
       "      <td>0.916667</td>\n",
       "      <td>0.220344</td>\n",
       "      <td>0.887097</td>\n",
       "      <td>0.367019</td>\n",
       "      <td>97</td>\n",
       "    </tr>\n",
       "    <tr>\n",
       "      <th>98</th>\n",
       "      <td>0.916667</td>\n",
       "      <td>0.210706</td>\n",
       "      <td>0.903226</td>\n",
       "      <td>0.330231</td>\n",
       "      <td>98</td>\n",
       "    </tr>\n",
       "    <tr>\n",
       "      <th>99</th>\n",
       "      <td>0.918478</td>\n",
       "      <td>0.213823</td>\n",
       "      <td>0.887097</td>\n",
       "      <td>0.354940</td>\n",
       "      <td>99</td>\n",
       "    </tr>\n",
       "  </tbody>\n",
       "</table>\n",
       "</div>"
      ],
      "text/plain": [
       "    accuracy      loss  val_accuracy  val_loss  epoch\n",
       "95  0.918478  0.213504      0.919355  0.334062     95\n",
       "96  0.914855  0.223692      0.887097  0.343549     96\n",
       "97  0.916667  0.220344      0.887097  0.367019     97\n",
       "98  0.916667  0.210706      0.903226  0.330231     98\n",
       "99  0.918478  0.213823      0.887097  0.354940     99"
      ]
     },
     "execution_count": 27,
     "metadata": {},
     "output_type": "execute_result"
    }
   ],
   "source": [
    "# Let's measure final performance\n",
    "hist = pd.DataFrame(neural_pred.history)\n",
    "hist['epoch'] = neural_pred.epoch\n",
    "hist.tail()\n",
    "# 91% accuracy on train\n"
   ]
  },
  {
   "cell_type": "code",
   "execution_count": 28,
   "id": "65ea6151",
   "metadata": {},
   "outputs": [
    {
     "name": "stdout",
     "output_type": "stream",
     "text": [
      "\u001b[1m5/5\u001b[0m \u001b[32m━━━━━━━━━━━━━━━━━━━━\u001b[0m\u001b[37m\u001b[0m \u001b[1m0s\u001b[0m 18ms/step\n"
     ]
    }
   ],
   "source": [
    "neural_test=neural_model.predict(X_test)"
   ]
  },
  {
   "cell_type": "code",
   "execution_count": 29,
   "id": "73830341",
   "metadata": {},
   "outputs": [],
   "source": [
    "neural_test_converted=[]\n",
    "for i in neural_test:\n",
    "    if i>0.5:\n",
    "        neural_test_converted.append(1)\n",
    "    else:\n",
    "        neural_test_converted.append(0)"
   ]
  },
  {
   "cell_type": "code",
   "execution_count": 30,
   "id": "cc395f04",
   "metadata": {},
   "outputs": [],
   "source": [
    "cmp_list=model_perf(neural_test_converted,Y_test)"
   ]
  },
  {
   "cell_type": "code",
   "execution_count": 31,
   "id": "4cff05cb",
   "metadata": {},
   "outputs": [
    {
     "name": "stdout",
     "output_type": "stream",
     "text": [
      "Test Accuracy :81.81818181818183 %\n"
     ]
    }
   ],
   "source": [
    "print('Test Accuracy :' + str(cmp_list.count(1)/len(Y_test)*100)+' %')\n",
    "#~86% Accuracy.\n"
   ]
  },
  {
   "cell_type": "code",
   "execution_count": 32,
   "id": "16365859",
   "metadata": {},
   "outputs": [],
   "source": [
    "import pickle\n",
    "# Lets dump our SVM model\n",
    "pickle.dump(svm_model, open('svm_model.pkl','wb'))"
   ]
  }
 ],
 "metadata": {
  "kernelspec": {
   "display_name": "Python 3",
   "language": "python",
   "name": "python3"
  },
  "language_info": {
   "codemirror_mode": {
    "name": "ipython",
    "version": 3
   },
   "file_extension": ".py",
   "mimetype": "text/x-python",
   "name": "python",
   "nbconvert_exporter": "python",
   "pygments_lexer": "ipython3",
   "version": "3.11.11"
  }
 },
 "nbformat": 4,
 "nbformat_minor": 5
}
